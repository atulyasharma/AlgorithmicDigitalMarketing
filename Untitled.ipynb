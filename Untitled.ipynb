{
 "cells": [
  {
   "cell_type": "code",
   "execution_count": 1,
   "metadata": {},
   "outputs": [],
   "source": [
    "import pandas as pd"
   ]
  },
  {
   "cell_type": "code",
   "execution_count": 5,
   "metadata": {},
   "outputs": [],
   "source": [
    "import os\n",
    "import glob\n",
    "import pandas as pd\n",
    "os.chdir(\"/Users/ramesh0101/Desktop/DigiMark/Assignment2/\")"
   ]
  },
  {
   "cell_type": "code",
   "execution_count": 6,
   "metadata": {},
   "outputs": [],
   "source": [
    "extension = 'csv'\n",
    "all_filenames = [i for i in glob.glob('*.{}'.format(extension))]"
   ]
  },
  {
   "cell_type": "code",
   "execution_count": 7,
   "metadata": {},
   "outputs": [],
   "source": [
    "combined_csv = pd.concat([pd.read_csv(f) for f in all_filenames ])"
   ]
  },
  {
   "cell_type": "code",
   "execution_count": 13,
   "metadata": {},
   "outputs": [
    {
     "data": {
      "text/html": [
       "<div>\n",
       "<style scoped>\n",
       "    .dataframe tbody tr th:only-of-type {\n",
       "        vertical-align: middle;\n",
       "    }\n",
       "\n",
       "    .dataframe tbody tr th {\n",
       "        vertical-align: top;\n",
       "    }\n",
       "\n",
       "    .dataframe thead th {\n",
       "        text-align: right;\n",
       "    }\n",
       "</style>\n",
       "<table border=\"1\" class=\"dataframe\">\n",
       "  <thead>\n",
       "    <tr style=\"text-align: right;\">\n",
       "      <th></th>\n",
       "      <th>page</th>\n",
       "      <th>Merek_Laptop</th>\n",
       "      <th>Nama_Laptop</th>\n",
       "      <th>Harga</th>\n",
       "      <th>Link_Produk</th>\n",
       "    </tr>\n",
       "  </thead>\n",
       "  <tbody>\n",
       "    <tr>\n",
       "      <th>0</th>\n",
       "      <td>https://www.jd.id/category/jual-laptop-8750614...</td>\n",
       "      <td>Ace</td>\n",
       "      <td>Ace-Pad S11 14inch RAM 6GB ROM  1920x1080 p Fu...</td>\n",
       "      <td>4399000</td>\n",
       "      <td>//www.jd.id/product/ace-pad-s11-14inch-ram-6gb...</td>\n",
       "    </tr>\n",
       "    <tr>\n",
       "      <th>1</th>\n",
       "      <td>https://www.jd.id/category/jual-laptop-8750614...</td>\n",
       "      <td>Ace</td>\n",
       "      <td>Ace-Pad S11 14inch RAM 6GB ROM  1920x1080 p Fu...</td>\n",
       "      <td>4690000</td>\n",
       "      <td>//www.jd.id/product/ace-pad-s11-14inch-ram-6gb...</td>\n",
       "    </tr>\n",
       "    <tr>\n",
       "      <th>2</th>\n",
       "      <td>https://www.jd.id/category/jual-laptop-8750614...</td>\n",
       "      <td>Ace</td>\n",
       "      <td>Ace-Pad S11 14inch RAM 6GB ROM  1920x1080 p Fu...</td>\n",
       "      <td>4390000</td>\n",
       "      <td>//www.jd.id/product/ace-pad-s11-14inch-ram-6gb...</td>\n",
       "    </tr>\n",
       "    <tr>\n",
       "      <th>3</th>\n",
       "      <td>https://www.jd.id/category/jual-laptop-8750614...</td>\n",
       "      <td>Ace</td>\n",
       "      <td>Ace-Pad S156  Laptop15.6 inch Windows 10 Engli...</td>\n",
       "      <td>3690000</td>\n",
       "      <td>//www.jd.id/product/ace-pad-s156-laptop15-6-in...</td>\n",
       "    </tr>\n",
       "    <tr>\n",
       "      <th>4</th>\n",
       "      <td>https://www.jd.id/category/jual-laptop-8750614...</td>\n",
       "      <td>Ace</td>\n",
       "      <td>Ace-Pad Z156 15.6inch  6GB RAM 64GB SSD 500GB ...</td>\n",
       "      <td>4690000</td>\n",
       "      <td>//www.jd.id/product/ace-pad-z156-15-6inch-6gb-...</td>\n",
       "    </tr>\n",
       "    <tr>\n",
       "      <th>...</th>\n",
       "      <td>...</td>\n",
       "      <td>...</td>\n",
       "      <td>...</td>\n",
       "      <td>...</td>\n",
       "      <td>...</td>\n",
       "    </tr>\n",
       "    <tr>\n",
       "      <th>696</th>\n",
       "      <td>https://www.jd.id/category/jual-laptop-8750614...</td>\n",
       "      <td>ZYREX</td>\n",
       "      <td>ZYREX Sky 232S 14\"/Intel Cel N3350/3GB/32GB Em...</td>\n",
       "      <td>2362000</td>\n",
       "      <td>//www.jd.id/product/zyrex-sky-232s-14-intel-ce...</td>\n",
       "    </tr>\n",
       "    <tr>\n",
       "      <th>697</th>\n",
       "      <td>https://www.jd.id/category/jual-laptop-8750614...</td>\n",
       "      <td>ZYREX</td>\n",
       "      <td>ZYREX Sky 232S 14\"/Intel Cel N3350/3GB/32GB Em...</td>\n",
       "      <td>2362000</td>\n",
       "      <td>//www.jd.id/product/zyrex-sky-232s-14-intel-ce...</td>\n",
       "    </tr>\n",
       "    <tr>\n",
       "      <th>698</th>\n",
       "      <td>https://www.jd.id/category/jual-laptop-8750614...</td>\n",
       "      <td>ZYREX</td>\n",
       "      <td>ZYREX Sky 232x 14.1\"/Celeron N3350/3GB/32GB eM...</td>\n",
       "      <td>2899000</td>\n",
       "      <td>//www.jd.id/product/zyrex-sky-232x-14-1-celero...</td>\n",
       "    </tr>\n",
       "    <tr>\n",
       "      <th>699</th>\n",
       "      <td>https://www.jd.id/category/jual-laptop-8750614...</td>\n",
       "      <td>ZYREX</td>\n",
       "      <td>ZYREX Sky 360 13.3\"/Intel Celeron N4000/4GB/64...</td>\n",
       "      <td>4999000</td>\n",
       "      <td>//www.jd.id/product/zyrex-sky-360-13-3-intel-c...</td>\n",
       "    </tr>\n",
       "    <tr>\n",
       "      <th>700</th>\n",
       "      <td>https://www.jd.id/category/jual-laptop-8750614...</td>\n",
       "      <td>ZYREX</td>\n",
       "      <td>ZYREX Sky 360 13.3/Intel Celeron - Silver+Micr...</td>\n",
       "      <td>5529000</td>\n",
       "      <td>//www.jd.id/product/zyrex-sky-360-13-3-intel-c...</td>\n",
       "    </tr>\n",
       "  </tbody>\n",
       "</table>\n",
       "<p>5552 rows × 5 columns</p>\n",
       "</div>"
      ],
      "text/plain": [
       "                                                  page Merek_Laptop  \\\n",
       "0    https://www.jd.id/category/jual-laptop-8750614...          Ace   \n",
       "1    https://www.jd.id/category/jual-laptop-8750614...          Ace   \n",
       "2    https://www.jd.id/category/jual-laptop-8750614...          Ace   \n",
       "3    https://www.jd.id/category/jual-laptop-8750614...          Ace   \n",
       "4    https://www.jd.id/category/jual-laptop-8750614...          Ace   \n",
       "..                                                 ...          ...   \n",
       "696  https://www.jd.id/category/jual-laptop-8750614...        ZYREX   \n",
       "697  https://www.jd.id/category/jual-laptop-8750614...        ZYREX   \n",
       "698  https://www.jd.id/category/jual-laptop-8750614...        ZYREX   \n",
       "699  https://www.jd.id/category/jual-laptop-8750614...        ZYREX   \n",
       "700  https://www.jd.id/category/jual-laptop-8750614...        ZYREX   \n",
       "\n",
       "                                           Nama_Laptop    Harga  \\\n",
       "0    Ace-Pad S11 14inch RAM 6GB ROM  1920x1080 p Fu...  4399000   \n",
       "1    Ace-Pad S11 14inch RAM 6GB ROM  1920x1080 p Fu...  4690000   \n",
       "2    Ace-Pad S11 14inch RAM 6GB ROM  1920x1080 p Fu...  4390000   \n",
       "3    Ace-Pad S156  Laptop15.6 inch Windows 10 Engli...  3690000   \n",
       "4    Ace-Pad Z156 15.6inch  6GB RAM 64GB SSD 500GB ...  4690000   \n",
       "..                                                 ...      ...   \n",
       "696  ZYREX Sky 232S 14\"/Intel Cel N3350/3GB/32GB Em...  2362000   \n",
       "697  ZYREX Sky 232S 14\"/Intel Cel N3350/3GB/32GB Em...  2362000   \n",
       "698  ZYREX Sky 232x 14.1\"/Celeron N3350/3GB/32GB eM...  2899000   \n",
       "699  ZYREX Sky 360 13.3\"/Intel Celeron N4000/4GB/64...  4999000   \n",
       "700  ZYREX Sky 360 13.3/Intel Celeron - Silver+Micr...  5529000   \n",
       "\n",
       "                                           Link_Produk  \n",
       "0    //www.jd.id/product/ace-pad-s11-14inch-ram-6gb...  \n",
       "1    //www.jd.id/product/ace-pad-s11-14inch-ram-6gb...  \n",
       "2    //www.jd.id/product/ace-pad-s11-14inch-ram-6gb...  \n",
       "3    //www.jd.id/product/ace-pad-s156-laptop15-6-in...  \n",
       "4    //www.jd.id/product/ace-pad-z156-15-6inch-6gb-...  \n",
       "..                                                 ...  \n",
       "696  //www.jd.id/product/zyrex-sky-232s-14-intel-ce...  \n",
       "697  //www.jd.id/product/zyrex-sky-232s-14-intel-ce...  \n",
       "698  //www.jd.id/product/zyrex-sky-232x-14-1-celero...  \n",
       "699  //www.jd.id/product/zyrex-sky-360-13-3-intel-c...  \n",
       "700  //www.jd.id/product/zyrex-sky-360-13-3-intel-c...  \n",
       "\n",
       "[5552 rows x 5 columns]"
      ]
     },
     "execution_count": 13,
     "metadata": {},
     "output_type": "execute_result"
    }
   ],
   "source": [
    "combined_csv"
   ]
  },
  {
   "cell_type": "code",
   "execution_count": 10,
   "metadata": {},
   "outputs": [],
   "source": [
    "combined_csv.to_csv(\"Laptop_Dataset.csv\", index=False, encoding='utf-8-sig')"
   ]
  },
  {
   "cell_type": "code",
   "execution_count": 3,
   "metadata": {},
   "outputs": [],
   "source": [
    "def div(low, high):\n",
    "    count =0\n",
    "    for i in (low,high,1):\n",
    "        num = i\n",
    "        while num%3==0:\n",
    "            num /=3\n",
    "        while num%5==0:\n",
    "            num /=5\n",
    "        while num==1:\n",
    "            count +=1\n",
    "    return count"
   ]
  },
  {
   "cell_type": "code",
   "execution_count": 4,
   "metadata": {},
   "outputs": [
    {
     "ename": "KeyboardInterrupt",
     "evalue": "",
     "output_type": "error",
     "traceback": [
      "\u001b[0;31m---------------------------------------------------------------------------\u001b[0m",
      "\u001b[0;31mKeyboardInterrupt\u001b[0m                         Traceback (most recent call last)",
      "\u001b[0;32m<ipython-input-4-d7b0c053b500>\u001b[0m in \u001b[0;36m<module>\u001b[0;34m\u001b[0m\n\u001b[0;32m----> 1\u001b[0;31m \u001b[0mdiv\u001b[0m\u001b[0;34m(\u001b[0m\u001b[0;36m10\u001b[0m\u001b[0;34m,\u001b[0m\u001b[0;36m20\u001b[0m\u001b[0;34m)\u001b[0m\u001b[0;34m\u001b[0m\u001b[0;34m\u001b[0m\u001b[0m\n\u001b[0m",
      "\u001b[0;32m<ipython-input-3-01432db7d102>\u001b[0m in \u001b[0;36mdiv\u001b[0;34m(low, high)\u001b[0m\n\u001b[1;32m      8\u001b[0m             \u001b[0mnum\u001b[0m \u001b[0;34m/=\u001b[0m\u001b[0;36m5\u001b[0m\u001b[0;34m\u001b[0m\u001b[0;34m\u001b[0m\u001b[0m\n\u001b[1;32m      9\u001b[0m         \u001b[0;32mwhile\u001b[0m \u001b[0mnum\u001b[0m\u001b[0;34m==\u001b[0m\u001b[0;36m1\u001b[0m\u001b[0;34m:\u001b[0m\u001b[0;34m\u001b[0m\u001b[0;34m\u001b[0m\u001b[0m\n\u001b[0;32m---> 10\u001b[0;31m             \u001b[0mcount\u001b[0m \u001b[0;34m+=\u001b[0m\u001b[0;36m1\u001b[0m\u001b[0;34m\u001b[0m\u001b[0;34m\u001b[0m\u001b[0m\n\u001b[0m\u001b[1;32m     11\u001b[0m     \u001b[0;32mreturn\u001b[0m \u001b[0mcount\u001b[0m\u001b[0;34m\u001b[0m\u001b[0;34m\u001b[0m\u001b[0m\n",
      "\u001b[0;31mKeyboardInterrupt\u001b[0m: "
     ]
    }
   ],
   "source": [
    "div(10,20)"
   ]
  },
  {
   "cell_type": "code",
   "execution_count": null,
   "metadata": {},
   "outputs": [],
   "source": []
  }
 ],
 "metadata": {
  "kernelspec": {
   "display_name": "Python 3",
   "language": "python",
   "name": "python3"
  },
  "language_info": {
   "codemirror_mode": {
    "name": "ipython",
    "version": 3
   },
   "file_extension": ".py",
   "mimetype": "text/x-python",
   "name": "python",
   "nbconvert_exporter": "python",
   "pygments_lexer": "ipython3",
   "version": "3.7.5"
  }
 },
 "nbformat": 4,
 "nbformat_minor": 2
}
